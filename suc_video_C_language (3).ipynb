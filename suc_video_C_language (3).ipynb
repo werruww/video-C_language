{
  "nbformat": 4,
  "nbformat_minor": 0,
  "metadata": {
    "colab": {
      "provenance": []
    },
    "kernelspec": {
      "name": "python3",
      "display_name": "Python 3"
    },
    "language_info": {
      "name": "python"
    }
  },
  "cells": [
    {
      "cell_type": "code",
      "execution_count": null,
      "metadata": {
        "id": "TI2XyoBKrvLp"
      },
      "outputs": [],
      "source": []
    },
    {
      "cell_type": "code",
      "source": [
        "#include <stdio.h>\n",
        "\n",
        "int main() {\n",
        "    // طباعة رسالة على الشاشة\n",
        "    printf(\"مرحبًا بالعالم!\\n\");\n",
        "    return 0;\n",
        "}\n"
      ],
      "metadata": {
        "id": "Cl4FaEH00Xc3"
      },
      "execution_count": null,
      "outputs": []
    },
    {
      "cell_type": "code",
      "source": [
        "!gcc hello.c -o hello\n",
        "\n"
      ],
      "metadata": {
        "id": "5BFGCZjS0Xf2"
      },
      "execution_count": null,
      "outputs": []
    },
    {
      "cell_type": "code",
      "source": [
        "!./hello"
      ],
      "metadata": {
        "id": "bs8Y529T0aC8"
      },
      "execution_count": null,
      "outputs": []
    },
    {
      "cell_type": "code",
      "source": [],
      "metadata": {
        "id": "V_CUGSkL08zd"
      },
      "execution_count": null,
      "outputs": []
    },
    {
      "cell_type": "code",
      "source": [],
      "metadata": {
        "id": "rINYd9yD08wt"
      },
      "execution_count": null,
      "outputs": []
    },
    {
      "cell_type": "code",
      "source": [],
      "metadata": {
        "id": "EWg68m3K16nG"
      },
      "execution_count": null,
      "outputs": []
    },
    {
      "cell_type": "code",
      "source": [],
      "metadata": {
        "id": "6yfh5_OP16j1"
      },
      "execution_count": null,
      "outputs": []
    },
    {
      "cell_type": "code",
      "source": [],
      "metadata": {
        "id": "jY9UDumO16gu"
      },
      "execution_count": null,
      "outputs": []
    },
    {
      "cell_type": "markdown",
      "source": [
        "شغال"
      ],
      "metadata": {
        "id": "85m0FBP-2OCe"
      }
    },
    {
      "cell_type": "code",
      "source": [
        "# نكتب الكود في ملف\n",
        "%%writefile hello.c\n",
        "#include <stdio.h>\n",
        "\n",
        "int main() {\n",
        "    printf(\"مرحبًا بالعالم!\\n\");\n",
        "    return 0;\n",
        "}\n"
      ],
      "metadata": {
        "id": "aXVzkuWU2HcO"
      },
      "execution_count": null,
      "outputs": []
    },
    {
      "cell_type": "markdown",
      "source": [
        "شغال"
      ],
      "metadata": {
        "id": "Ms3y86-Q2PKt"
      }
    },
    {
      "cell_type": "code",
      "source": [
        "!gcc hello.c -o hello\n",
        "!./hello\n"
      ],
      "metadata": {
        "id": "_bth2mTS2H6G"
      },
      "execution_count": null,
      "outputs": []
    },
    {
      "cell_type": "code",
      "source": [],
      "metadata": {
        "id": "wdwZRr5U2UTP"
      },
      "execution_count": null,
      "outputs": []
    },
    {
      "cell_type": "code",
      "source": [],
      "metadata": {
        "id": "KD3ICG1_2UPe"
      },
      "execution_count": null,
      "outputs": []
    },
    {
      "cell_type": "code",
      "source": [
        "# نكتب الكود في ملف\n",
        "%%writefile hello1.c\n",
        "#include <stdio.h>\n",
        "\n",
        "int main() {\n",
        "    printf(\"العالم يغنى برنامج زمان\\n\");\n",
        "    return 0;\n",
        "}\n"
      ],
      "metadata": {
        "id": "zHkCAnNG2UL-"
      },
      "execution_count": null,
      "outputs": []
    },
    {
      "cell_type": "code",
      "source": [
        "!gcc hello1.c -o hello1\n",
        "!./hello1"
      ],
      "metadata": {
        "id": "MZz2NVV62b2g"
      },
      "execution_count": null,
      "outputs": []
    },
    {
      "cell_type": "code",
      "source": [
        "# نحفظ البرنامج في ملف\n",
        "%%writefile calculator.c\n",
        "#include <stdio.h>\n",
        "#include <math.h>\n",
        "\n",
        "int main() {\n",
        "    int choice;\n",
        "    double num1, num2;\n",
        "\n",
        "    printf(\"اختر العملية:\\n\");\n",
        "    printf(\"1. جمع\\n\");\n",
        "    printf(\"2. طرح\\n\");\n",
        "    printf(\"3. ضرب\\n\");\n",
        "    printf(\"4. قسمة\\n\");\n",
        "    printf(\"5. الجذر التربيعي\\n\");\n",
        "    printf(\"6. الجذر التكعيبي\\n\");\n",
        "    printf(\"اختيارك: \");\n",
        "    scanf(\"%d\", &choice);\n",
        "\n",
        "    if (choice >= 1 && choice <= 4) {\n",
        "        printf(\"ادخل الرقم الأول: \");\n",
        "        scanf(\"%lf\", &num1);\n",
        "        printf(\"ادخل الرقم الثاني: \");\n",
        "        scanf(\"%lf\", &num2);\n",
        "    } else if (choice == 5 || choice == 6) {\n",
        "        printf(\"ادخل الرقم: \");\n",
        "        scanf(\"%lf\", &num1);\n",
        "    }\n",
        "\n",
        "    switch(choice) {\n",
        "        case 1:\n",
        "            printf(\"النتيجة: %.2lf\\n\", num1 + num2);\n",
        "            break;\n",
        "        case 2:\n",
        "            printf(\"النتيجة: %.2lf\\n\", num1 - num2);\n",
        "            break;\n",
        "        case 3:\n",
        "            printf(\"النتيجة: %.2lf\\n\", num1 * num2);\n",
        "            break;\n",
        "        case 4:\n",
        "            if (num2 != 0)\n",
        "                printf(\"النتيجة: %.2lf\\n\", num1 / num2);\n",
        "            else\n",
        "                printf(\"خطأ: لا يمكن القسمة على صفر.\\n\");\n",
        "            break;\n",
        "        case 5:\n",
        "            if (num1 >= 0)\n",
        "                printf(\"الجذر التربيعي: %.2lf\\n\", sqrt(num1));\n",
        "            else\n",
        "                printf(\"خطأ: لا يمكن حساب الجذر التربيعي لعدد سالب.\\n\");\n",
        "            break;\n",
        "        case 6:\n",
        "            printf(\"الجذر التكعيبي: %.2lf\\n\", cbrt(num1));\n",
        "            break;\n",
        "        default:\n",
        "            printf(\"خيار غير صالح.\\n\");\n",
        "    }\n",
        "\n",
        "    return 0;\n",
        "}\n"
      ],
      "metadata": {
        "id": "CJB4Dyhu3gtX"
      },
      "execution_count": null,
      "outputs": []
    },
    {
      "cell_type": "code",
      "source": [
        "!gcc calculator.c -o calculator\n"
      ],
      "metadata": {
        "id": "zD1BlAJT3mYe"
      },
      "execution_count": null,
      "outputs": []
    },
    {
      "cell_type": "code",
      "source": [
        "!gcc calculator.c -o calculator -lm\n"
      ],
      "metadata": {
        "id": "a4WuliHj3rIf"
      },
      "execution_count": null,
      "outputs": []
    },
    {
      "cell_type": "code",
      "source": [
        "!./calculator"
      ],
      "metadata": {
        "id": "b1GXew1k4Bin"
      },
      "execution_count": null,
      "outputs": []
    },
    {
      "cell_type": "code",
      "source": [],
      "metadata": {
        "id": "p91-tqvm4Dj_"
      },
      "execution_count": null,
      "outputs": []
    },
    {
      "cell_type": "code",
      "source": [],
      "metadata": {
        "id": "kddGY3hw4Mj1"
      },
      "execution_count": null,
      "outputs": []
    },
    {
      "cell_type": "code",
      "source": [],
      "metadata": {
        "id": "OKICSthf4Mh_"
      },
      "execution_count": null,
      "outputs": []
    },
    {
      "cell_type": "code",
      "source": [
        "!pip install pytube\n",
        "!pip install moviepy"
      ],
      "metadata": {
        "id": "ohm1EhB34Mee"
      },
      "execution_count": null,
      "outputs": []
    },
    {
      "cell_type": "code",
      "source": [
        "!pip install -q --upgrade pytube\n"
      ],
      "metadata": {
        "id": "KJLNpZ2D4xR_"
      },
      "execution_count": null,
      "outputs": []
    },
    {
      "cell_type": "code",
      "source": [
        "https://www.youtube.com/watch?v=Bj9BD2D3DzA"
      ],
      "metadata": {
        "id": "jrjsM3dM4hNH"
      },
      "execution_count": null,
      "outputs": []
    },
    {
      "cell_type": "code",
      "source": [
        "#url = \"https://www.youtube.com/watch?v=2lAe1cqCOXo\"  # فيديو مفتوح تماماً\n",
        "# تثبيت yt-dlp\n",
        "#!pip install -q yt-dlp\n",
        "\n",
        "# تحميل الفيديو من يوتيوب\n",
        "#!yt-dlp -f 'mp4' -o 'video.mp4' \"https://www.youtube.com/watch?v=2lAe1cqCOXo\"\n",
        "#https://www.youtube.com/watch?v=HdafI0t3sEY\n",
        "\n",
        "!yt-dlp -f 'mp4' -o 'video.mp4' \"https://www.youtube.com/watch?v=HdafI0t3sEY\"\n",
        "\n"
      ],
      "metadata": {
        "id": "NhdCZt_o5StX"
      },
      "execution_count": null,
      "outputs": []
    },
    {
      "cell_type": "code",
      "source": [
        "!yt-dlp -f 'mp4' -o 'video.mp4' \"https://www.youtube.com/watch?v=HdafI0t3sEY\"\n"
      ],
      "metadata": {
        "id": "Iqf0Y2PS51AX"
      },
      "execution_count": null,
      "outputs": []
    },
    {
      "cell_type": "code",
      "source": [
        "from IPython.display import Video, display\n",
        "\n",
        "display(Video(\"video.mp4\", embed=True))\n"
      ],
      "metadata": {
        "id": "aDUEhNkX5B4Y"
      },
      "execution_count": null,
      "outputs": []
    },
    {
      "cell_type": "code",
      "source": [
        "!chmod a+rx /content/yt-dlp"
      ],
      "metadata": {
        "id": "AAlwcz6c6HH4"
      },
      "execution_count": null,
      "outputs": []
    },
    {
      "cell_type": "code",
      "source": [
        "!yt-dlp -U"
      ],
      "metadata": {
        "id": "XAwX429o6vHg"
      },
      "execution_count": null,
      "outputs": []
    },
    {
      "cell_type": "code",
      "source": [],
      "metadata": {
        "id": "2xL5qzah6zTo"
      },
      "execution_count": null,
      "outputs": []
    },
    {
      "source": [
        "!pip install -q yt-dlp"
      ],
      "cell_type": "code",
      "metadata": {
        "id": "UCAjm8Tn7XUJ"
      },
      "execution_count": null,
      "outputs": []
    },
    {
      "source": [
        "!yt-dlp -f 'bestvideo[ext=mp4]+bestaudio[ext=m4a]/best[ext=mp4]/best' -o 'video.%(ext)s' \"https://www.youtube.com/watch?v=nnRZVEWQImM&t=464s\""
      ],
      "cell_type": "code",
      "metadata": {
        "id": "gqtKENLG7X6Z"
      },
      "execution_count": null,
      "outputs": []
    },
    {
      "source": [
        "from IPython.display import Video, display\n",
        "\n",
        "display(Video(\"video.mp4\", embed=True))"
      ],
      "cell_type": "code",
      "metadata": {
        "id": "8S5QBLEq7YXC"
      },
      "execution_count": null,
      "outputs": []
    },
    {
      "source": [
        "from google.colab import files\n",
        "uploaded = files.upload()"
      ],
      "cell_type": "code",
      "metadata": {
        "id": "T-8YVH6-7v2M"
      },
      "execution_count": null,
      "outputs": []
    },
    {
      "source": [
        "!yt-dlp -f 'bestvideo[ext=mp4]+bestaudio[ext=m4a]/best[ext=mp4]/best' -o 'video.%(ext)s' --cookies cookies.txt \"رابط_الفيديو_هنا\""
      ],
      "cell_type": "code",
      "metadata": {
        "id": "B-4RXW7573lT"
      },
      "execution_count": null,
      "outputs": []
    },
    {
      "source": [
        "from google.colab import files\n",
        "uploaded = files.upload()\n",
        "!yt-dlp -f 'bestvideo[ext=mp4]+bestaudio[ext=m4a]/best[ext=mp4]/best' -o 'video.%(ext)s' --cookies cookies.txt \"https://www.youtube.com/watch?v=nnRZVEWQImM&t=464s\"\n",
        "from IPython.display import Video, display\n",
        "display(Video(\"video.mp4\", embed=True))"
      ],
      "cell_type": "code",
      "metadata": {
        "id": "KvjosjrU74qV"
      },
      "execution_count": null,
      "outputs": []
    },
    {
      "source": [
        "!pip install youtube-dl"
      ],
      "cell_type": "code",
      "metadata": {
        "id": "ejQhukAO8SMG"
      },
      "execution_count": null,
      "outputs": []
    },
    {
      "source": [
        "from IPython.display import Video, display\n",
        "\n",
        "display(Video(\"video.mp4\", embed=True))"
      ],
      "cell_type": "code",
      "metadata": {
        "id": "HEw39otn8S1D"
      },
      "execution_count": null,
      "outputs": []
    },
    {
      "cell_type": "code",
      "source": [],
      "metadata": {
        "id": "H669TihW8_eA"
      },
      "execution_count": null,
      "outputs": []
    },
    {
      "cell_type": "code",
      "source": [],
      "metadata": {
        "id": "T2U2q0xP8_bp"
      },
      "execution_count": null,
      "outputs": []
    },
    {
      "cell_type": "code",
      "source": [],
      "metadata": {
        "id": "i7S2SnPU8_YR"
      },
      "execution_count": null,
      "outputs": []
    },
    {
      "cell_type": "code",
      "source": [],
      "metadata": {
        "id": "_XXGLD4p8_Ux"
      },
      "execution_count": null,
      "outputs": []
    },
    {
      "cell_type": "code",
      "source": [
        "from IPython.display import display, HTML\n",
        "\n",
        "html_code = \"\"\"\n",
        "<div style=\"padding:20px; background-color:#222; color:white; font-size:24px; border-radius:10px;\">\n",
        "    👋 أهلاً بك في شاشة العرض!\n",
        "</div>\n",
        "\"\"\"\n",
        "\n",
        "display(HTML(html_code))\n"
      ],
      "metadata": {
        "id": "HsRTS-zS8_Oa"
      },
      "execution_count": null,
      "outputs": []
    },
    {
      "cell_type": "code",
      "source": [
        "!pip install gradio\n"
      ],
      "metadata": {
        "id": "CY_7R1S09ewS"
      },
      "execution_count": null,
      "outputs": []
    },
    {
      "cell_type": "markdown",
      "source": [
        "شغال"
      ],
      "metadata": {
        "id": "822GgX88KQy3"
      }
    },
    {
      "cell_type": "code",
      "source": [
        "import gradio as gr\n",
        "\n",
        "# دالة تقوم بعرض رسالة مخصصة\n",
        "def display_message(message):\n",
        "    return f\"👋 أهلاً بك في شاشة العرض! {message}\"\n",
        "\n",
        "# إنشاء واجهة Gradio مع إدخال نص\n",
        "iface = gr.Interface(\n",
        "    fn=display_message,                    # الدالة التي ستنفذ\n",
        "    inputs=gr.Textbox(label=\"أدخل رسالتك هنا\"),  # صندوق النص\n",
        "    outputs=\"text\",                         # إخراج النص\n",
        "    title=\"شاشة عرض تفاعلية\",              # العنوان\n",
        "    description=\"أدخل نصًا وسيتم عرضه مع رسالة ترحيب!\"  # الوصف\n",
        ")\n",
        "\n",
        "# تشغيل الواجهة\n",
        "iface.launch()\n"
      ],
      "metadata": {
        "id": "jlIpk_kr9Qlp"
      },
      "execution_count": null,
      "outputs": []
    },
    {
      "cell_type": "code",
      "source": [
        "from google.colab import files\n",
        "uploaded = files.upload()\n",
        "!yt-dlp -f 'bestvideo[ext=mp4]+bestaudio[ext=m4a]/best[ext=mp4]/best' -o 'video.%(ext)s' --cookies cookies.txt \"https://www.youtube.com/watch?v=nnRZVEWQImM&t=464s\"\n",
        "from IPython.display import Video, display\n",
        "display(Video(\"video.mp4\", embed=True))"
      ],
      "metadata": {
        "id": "aPDCH8tM9dBZ"
      },
      "execution_count": null,
      "outputs": []
    },
    {
      "cell_type": "markdown",
      "source": [
        "شغال"
      ],
      "metadata": {
        "id": "k9nhrRKPKUW_"
      }
    },
    {
      "cell_type": "code",
      "source": [
        "from IPython.display import Video, display\n",
        "display(Video(\"/content/100554-video-720.mp4\", embed=True))"
      ],
      "metadata": {
        "id": "vGZfcp7N-0EC"
      },
      "execution_count": null,
      "outputs": []
    },
    {
      "cell_type": "markdown",
      "source": [
        "شغال"
      ],
      "metadata": {
        "id": "fQ8tbRyRKX1f"
      }
    },
    {
      "cell_type": "code",
      "source": [
        "\n",
        "!yt-dlp -f 'bestvideo[ext=mp4]+bestaudio[ext=m4a]/best[ext=mp4]/best' -o 'video.%(ext)s' --cookies cookies.txt \"https://assets.mixkit.co/active_storage/video_items/100554/1726600418/100554-video-720.mp4\"\n"
      ],
      "metadata": {
        "id": "AW5sZkzq-_Si"
      },
      "execution_count": null,
      "outputs": []
    },
    {
      "cell_type": "code",
      "source": [
        "from IPython.display import Video, display\n",
        "display(Video(\"video.mp4\", embed=True))"
      ],
      "metadata": {
        "id": "kxy9ijSI_JiK"
      },
      "execution_count": null,
      "outputs": []
    },
    {
      "cell_type": "code",
      "source": [
        "import cv2\n",
        "import os\n",
        "\n",
        "# تحديد مسار الفيديو\n",
        "video_path = 'your_video.mp4'  # قم بتغيير هذا إلى مسار الفيديو الخاص بك\n",
        "output_folder = 'output_images'  # مجلد حفظ الصور\n",
        "\n",
        "# التأكد من أن المجلد موجود\n",
        "if not os.path.exists(output_folder):\n",
        "    os.makedirs(output_folder)\n",
        "\n",
        "# تحميل الفيديو\n",
        "cap = cv2.VideoCapture(video_path)\n",
        "\n",
        "# التحقق من أن الفيديو تم تحميله بشكل صحيح\n",
        "if not cap.isOpened():\n",
        "    print(\"Error: Unable to open the video file.\")\n",
        "else:\n",
        "    # الحصول على عدد الإطارات في الفيديو\n",
        "    frame_count = int(cap.get(cv2.CAP_PROP_FRAME_COUNT))\n",
        "\n",
        "    # المتغير لتخزين رقم الصورة\n",
        "    frame_num = 0\n",
        "\n",
        "    # قراءة الإطارات من الفيديو\n",
        "    while cap.isOpened():\n",
        "        ret, frame = cap.read()  # قراءة إطار من الفيديو\n",
        "\n",
        "        if not ret:\n",
        "            break\n",
        "\n",
        "        # حفظ الإطار كصورة في المجلد المحدد\n",
        "        frame_filename = os.path.join(output_folder, f\"frame_{frame_num:04d}.jpg\")\n",
        "        cv2.imwrite(frame_filename, frame)\n",
        "\n",
        "        # عرض تقدم التحويل\n",
        "        print(f\"Saving frame {frame_num + 1}/{frame_count}\")\n",
        "\n",
        "        frame_num += 1\n",
        "\n",
        "    # إغلاق الفيديو بعد الانتهاء\n",
        "    cap.release()\n",
        "\n",
        "print(\"Video frames have been extracted and saved as images.\")\n"
      ],
      "metadata": {
        "id": "aJU6PdezAeqK"
      },
      "execution_count": null,
      "outputs": []
    },
    {
      "cell_type": "markdown",
      "source": [
        "شغال"
      ],
      "metadata": {
        "id": "h2LhrTNIKb5u"
      }
    },
    {
      "cell_type": "markdown",
      "source": [
        "### لتحويل فيديو إلى مجموعة من الصور."
      ],
      "metadata": {
        "id": "jqasf-5dBJT6"
      }
    },
    {
      "cell_type": "code",
      "source": [
        "import cv2\n",
        "import os\n",
        "\n",
        "# تحديد مسار الفيديو\n",
        "video_path = 'video.mp4'  # قم بتغيير هذا إلى مسار الفيديو الخاص بك\n",
        "output_folder = 'output_images'  # مجلد حفظ الصور\n",
        "\n",
        "# التأكد من أن المجلد موجود\n",
        "if not os.path.exists(output_folder):\n",
        "    os.makedirs(output_folder)\n",
        "\n",
        "# تحميل الفيديو\n",
        "cap = cv2.VideoCapture(video_path)\n",
        "\n",
        "# التحقق من أن الفيديو تم تحميله بشكل صحيح\n",
        "if not cap.isOpened():\n",
        "    print(\"Error: Unable to open the video file.\")\n",
        "else:\n",
        "    # الحصول على عدد الإطارات في الفيديو\n",
        "    frame_count = int(cap.get(cv2.CAP_PROP_FRAME_COUNT))\n",
        "\n",
        "    # المتغير لتخزين رقم الصورة\n",
        "    frame_num = 0\n",
        "\n",
        "    # قراءة الإطارات من الفيديو\n",
        "    while cap.isOpened():\n",
        "        ret, frame = cap.read()  # قراءة إطار من الفيديو\n",
        "\n",
        "        if not ret:\n",
        "            break\n",
        "\n",
        "        # حفظ الإطار كصورة في المجلد المحدد\n",
        "        frame_filename = os.path.join(output_folder, f\"frame_{frame_num:04d}.jpg\")\n",
        "        cv2.imwrite(frame_filename, frame)\n",
        "\n",
        "        # عرض تقدم التحويل\n",
        "        print(f\"Saving frame {frame_num + 1}/{frame_count}\")\n",
        "\n",
        "        frame_num += 1\n",
        "\n",
        "    # إغلاق الفيديو بعد الانتهاء\n",
        "    cap.release()\n",
        "\n",
        "print(\"Video frames have been extracted and saved as images.\")\n"
      ],
      "metadata": {
        "id": "7fWEUX-qAh7K"
      },
      "execution_count": null,
      "outputs": []
    },
    {
      "cell_type": "code",
      "source": [],
      "metadata": {
        "id": "ct_VM2GwAxpl"
      },
      "execution_count": null,
      "outputs": []
    },
    {
      "source": [
        "import matplotlib.pyplot as plt\n",
        "import matplotlib.image as mpimg"
      ],
      "cell_type": "code",
      "metadata": {
        "id": "JP4DsFeyAyo7"
      },
      "execution_count": null,
      "outputs": []
    },
    {
      "source": [
        "img = mpimg.imread('path/to/your/image.jpg') # استبدل 'path/to/your/image.jpg' بمسار صورتك"
      ],
      "cell_type": "code",
      "metadata": {
        "id": "ElB9EFzCAy5r"
      },
      "execution_count": null,
      "outputs": []
    },
    {
      "source": [
        "plt.imshow(img)\n",
        "plt.show()"
      ],
      "cell_type": "code",
      "metadata": {
        "id": "04QCPl4IAzQD"
      },
      "execution_count": null,
      "outputs": []
    },
    {
      "source": [
        "Image('path/to/your/image.jpg') # استبدل 'path/to/your/image.jpg' بمسار صورتك"
      ],
      "cell_type": "code",
      "metadata": {
        "id": "rTQq667hAzyt"
      },
      "execution_count": null,
      "outputs": []
    },
    {
      "cell_type": "code",
      "source": [],
      "metadata": {
        "id": "_XTDOlwWBNT1"
      },
      "execution_count": null,
      "outputs": []
    },
    {
      "cell_type": "markdown",
      "source": [
        "شغال"
      ],
      "metadata": {
        "id": "5h1TCaJ3KehP"
      }
    },
    {
      "cell_type": "markdown",
      "source": [
        "### عرض صورة"
      ],
      "metadata": {
        "id": "XdllQ2vxBN9_"
      }
    },
    {
      "source": [
        "import matplotlib.pyplot as plt\n",
        "import matplotlib.image as mpimg\n",
        "\n",
        "img = mpimg.imread('/content/output_images/frame_0004.jpg') # افترض أن صورتك اسمها my_image.jpg وموجودة في نفس مجلد نوتبوك Colab\n",
        "\n",
        "plt.imshow(img)\n",
        "plt.title('My Image')\n",
        "plt.show()"
      ],
      "cell_type": "code",
      "metadata": {
        "id": "AslWqsOwA0VT"
      },
      "execution_count": null,
      "outputs": []
    },
    {
      "cell_type": "code",
      "source": [
        "import matplotlib.pyplot as plt\n",
        "import matplotlib.image as mpimg\n",
        "\n",
        "img = mpimg.imread('/content/output_images/frame_0233.jpg') # افترض أن صورتك اسمها my_image.jpg وموجودة في نفس مجلد نوتبوك Colab\n",
        "\n",
        "plt.imshow(img)\n",
        "plt.title('My Image')\n",
        "plt.show()"
      ],
      "metadata": {
        "id": "cF4a4grsA3pK"
      },
      "execution_count": null,
      "outputs": []
    },
    {
      "cell_type": "code",
      "source": [
        "\n",
        "from pytube import YouTube\n",
        "import os\n",
        "import threading\n",
        "\n",
        "def downloadYouTube(videourl, path):\n",
        "    print(\"Started download from url \", videourl)\n",
        "    yt = YouTube(videourl)\n",
        "    yt = yt.streams.filter(progressive=True, file_extension='mp4').order_by('resolution').desc().first()\n",
        "    if not os.path.exists(path):\n",
        "        os.makedirs(path)\n",
        "    yt.download(path)\n",
        "    print(\"Downloaded video \", yt.title)\n",
        "\n",
        "links = ['https://www.youtube.com/watch?v=a3ICNMQW7Ok', 'https://www.youtube.com/watch?v=onMFJvk1FR4']\n",
        "\n",
        "for link in links:\n",
        "    video = threading.Thread(target=downloadYouTube, args=(link, './videos/'))\n",
        "    video.start()"
      ],
      "metadata": {
        "id": "7eAReH64CF2b"
      },
      "execution_count": null,
      "outputs": []
    },
    {
      "cell_type": "code",
      "source": [
        "from pytube import YouTube\n",
        "import os\n",
        "import threading\n",
        "\n",
        "def downloadYouTube(videourl, path):\n",
        "    print(\"Started download from url \", videourl)\n",
        "    yt = YouTube(videourl)\n",
        "    yt = yt.streams.filter(progressive=True, file_extension='mp4').order_by('resolution').desc().first()\n",
        "    if not os.path.exists(path):\n",
        "        os.makedirs(path)\n",
        "    yt.download(path)\n",
        "    print(\"Downloaded video \", yt.title)\n",
        "\n",
        "links = ['https://www.youtube.com/watch?v=a3ICNMQW7Ok', 'https://www.youtube.com/watch?v=onMFJvk1FR4']\n",
        "\n",
        "for link in links:\n",
        "    video = threading.Thread(target=downloadYouTube, args=(link, './videos/'))\n",
        "    video.start()"
      ],
      "metadata": {
        "id": "1o7hpdquCMKL"
      },
      "execution_count": null,
      "outputs": []
    },
    {
      "cell_type": "code",
      "source": [
        "!Started download from url  https://www.youtube.com/watch?v=onMFJvk1FR4"
      ],
      "metadata": {
        "id": "SsD-1GDyCU-D"
      },
      "execution_count": null,
      "outputs": []
    },
    {
      "cell_type": "code",
      "source": [
        "!youtube-dl -f 'bestvideo[ext=mp4]+bestaudio[ext=m4a]/best[ext=mp4]/best' -o 'video.%(ext)s' \"https://www.youtube.com/watch?v=nnRZVEWQImM&t=464s\""
      ],
      "metadata": {
        "id": "4e8xoLROCc8y"
      },
      "execution_count": null,
      "outputs": []
    },
    {
      "cell_type": "code",
      "source": [
        "!youtube-dl -h"
      ],
      "metadata": {
        "id": "Ic_Dsy-JCpJj"
      },
      "execution_count": null,
      "outputs": []
    },
    {
      "cell_type": "code",
      "source": [
        "!youtube-dl"
      ],
      "metadata": {
        "id": "qXeOisAqCrBj"
      },
      "execution_count": null,
      "outputs": []
    },
    {
      "cell_type": "code",
      "source": [
        "https://www.youtube.com/watch?v=zNyYDHCg06c"
      ],
      "metadata": {
        "id": "pbAC9vmyDWLx"
      },
      "execution_count": null,
      "outputs": []
    },
    {
      "cell_type": "code",
      "source": [],
      "metadata": {
        "id": "_56WfksdDY1D"
      },
      "execution_count": null,
      "outputs": []
    },
    {
      "cell_type": "code",
      "source": [],
      "metadata": {
        "id": "6N7eSm-VDywD"
      },
      "execution_count": null,
      "outputs": []
    },
    {
      "cell_type": "code",
      "source": [],
      "metadata": {
        "id": "Cb4YR5kCDytD"
      },
      "execution_count": null,
      "outputs": []
    },
    {
      "cell_type": "code",
      "source": [
        "!curl -L https://github.com/yt-dlp/yt-dlp/raw/master/public.key | gpg --import\n",
        "!gpg --verify SHA2-256SUMS.sig SHA2-256SUMS\n",
        "!gpg --verify SHA2-512SUMS.sig SHA2-512SUMS"
      ],
      "metadata": {
        "id": "SFS8sdTRDypz"
      },
      "execution_count": null,
      "outputs": []
    },
    {
      "cell_type": "markdown",
      "source": [
        "https://github.com/yt-dlp/yt-dlp"
      ],
      "metadata": {
        "id": "MpSW36YkEBw8"
      }
    },
    {
      "cell_type": "code",
      "source": [],
      "metadata": {
        "id": "WhbZ8LrAEhnU"
      },
      "execution_count": null,
      "outputs": []
    },
    {
      "source": [
        "!chmod +x /content/yt-dlp_linux"
      ],
      "cell_type": "code",
      "metadata": {
        "id": "shwoM-F9EwSN"
      },
      "execution_count": null,
      "outputs": []
    },
    {
      "source": [
        "!sudo cp /content/yt-dlp_linux /usr/local/bin/yt-dlp"
      ],
      "cell_type": "code",
      "metadata": {
        "id": "JGJOP9vjEwhN"
      },
      "execution_count": null,
      "outputs": []
    },
    {
      "source": [
        "!wget /content/yt-dlp_linux\n",
        "!chmod +x /content/yt-dlp_linux\n",
        "!sudo cp /content/yt-dlp_linux /usr/local/bin/yt-dlp\n",
        "!yt-dlp --version # للتحقق من التثبيت"
      ],
      "cell_type": "code",
      "metadata": {
        "id": "tCQfl4W6ExhV"
      },
      "execution_count": null,
      "outputs": []
    },
    {
      "source": [
        "!wget https://github.com/yt-dlp/yt-dlp/releases/latest/download/yt-dlp_linux # تحميل الملف"
      ],
      "cell_type": "code",
      "metadata": {
        "id": "_DKy_cR9Eys9"
      },
      "execution_count": null,
      "outputs": []
    },
    {
      "source": [
        "!chmod a+x yt-dlp_linux # تغيير صلاحيات الوصول"
      ],
      "cell_type": "code",
      "metadata": {
        "id": "n9jZXZQqEzA-"
      },
      "execution_count": null,
      "outputs": []
    },
    {
      "source": [
        "!mv yt-dlp_linux /usr/local/bin/yt-dlp # نقل الملف إلى PATH"
      ],
      "cell_type": "code",
      "metadata": {
        "id": "6sz-OgJlEzf-"
      },
      "execution_count": null,
      "outputs": []
    },
    {
      "source": [
        "!yt-dlp --version # التحقق من الإصدار"
      ],
      "cell_type": "code",
      "metadata": {
        "id": "aoQDJqYxEz7t"
      },
      "execution_count": null,
      "outputs": []
    },
    {
      "cell_type": "markdown",
      "source": [
        "https://github.com/yt-dlp/yt-dlp"
      ],
      "metadata": {
        "id": "7KFJlvm4Fo29"
      }
    },
    {
      "cell_type": "code",
      "source": [],
      "metadata": {
        "id": "e7CjyQ5dJxem"
      },
      "execution_count": null,
      "outputs": []
    },
    {
      "cell_type": "markdown",
      "source": [
        "شغال"
      ],
      "metadata": {
        "id": "J792ybgOJx8u"
      }
    },
    {
      "cell_type": "code",
      "source": [
        "!yt-dlp --enable-file-urls  URL https://www.youtube.com/watch?v=zNyYDHCg06c"
      ],
      "metadata": {
        "id": "D04Ku9h-FLoU"
      },
      "execution_count": null,
      "outputs": []
    },
    {
      "cell_type": "code",
      "source": [
        "!yt-dlp --print filename -o \"test video.%(ext)s\" BaW_jenozKc\n",
        "!test /content/Finding Nemo- Dory's Best Moments [zNyYDHCg06c].webm"
      ],
      "metadata": {
        "id": "8E8itFYFFiF0"
      },
      "execution_count": null,
      "outputs": []
    },
    {
      "cell_type": "markdown",
      "source": [
        "شغال"
      ],
      "metadata": {
        "id": "QO9sZKfAJvIm"
      }
    },
    {
      "cell_type": "code",
      "source": [
        "from IPython.display import Video, display\n",
        "display(Video(\"/content/Finding Nemo- Dory's Best Moments [zNyYDHCg06c].webm\", embed=True))"
      ],
      "metadata": {
        "id": "x1Q-5IC6GTf8"
      },
      "execution_count": null,
      "outputs": []
    },
    {
      "cell_type": "code",
      "source": [],
      "metadata": {
        "id": "ZA4Tq3z_HSYd"
      },
      "execution_count": null,
      "outputs": []
    },
    {
      "cell_type": "markdown",
      "source": [
        "\n",
        "\n",
        "\n",
        "\n",
        "\n",
        "\n",
        "\n",
        "\n",
        "\n",
        "\n",
        "\n",
        "\n",
        "نعم، هناك عدة مواقع يمكنك من خلالها تنزيل فيديوهات مجانية باستخدام تراخيص تسمح باستخدامها في مشاريعك الخاصة أو التجارية. إليك بعض المواقع التي تقدم فيديوهات مجانية:\n",
        "\n",
        "### 1. **Pexels** (https://www.pexels.com/)\n",
        "   - يوفر موقع Pexels مكتبة ضخمة من الفيديوهات والصور المجانية.\n",
        "   - جميع الفيديوهات متاحة للتنزيل مجانًا وتحت رخصة **Pexels License**، مما يعني أنه يمكنك استخدامها في أي مشروع تجاري أو غير تجاري دون الحاجة إلى إذن أو دفع حقوق.\n",
        "\n",
        "### 2. **Pixabay** (https://pixabay.com/videos/)\n",
        "   - يحتوي موقع Pixabay على مجموعة واسعة من الفيديوهات المجانية.\n",
        "   - جميع الفيديوهات متاحة بموجب **Pixabay License**، مما يتيح لك استخدامها بحرية في المشاريع التجارية والشخصية.\n",
        "\n",
        "### 3. **Videvo** (https://www.videvo.net/)\n",
        "   - يقدم Videvo مكتبة من الفيديوهات المجانية ومقاطع الحركة.\n",
        "   - بعض الفيديوهات تتطلب التسجيل ولكن معظمها متاح مع تراخيص مجانية.\n",
        "\n",
        "### 4. **Coverr** (https://coverr.co/)\n",
        "   - يقدم Coverr فيديوهات مجانية للاستخدام التجاري أو الشخصي.\n",
        "   - لا حاجة للتسجيل لتحميل الفيديوهات.\n",
        "\n",
        "### 5. **Splitshire** (https://www.splitshire.com/)\n",
        "   - يقدم Splitshire مجموعة مختارة من الفيديوهات والصور المجانية.\n",
        "   - الفيديوهات متاحة للاستخدام التجاري وغير التجاري بدون الحاجة لإعطاء الفضل.\n",
        "\n",
        "### 6. **Life of Vids** (https://www.lifeofvids.com/)\n",
        "   - يوفر موقع Life of Vids فيديوهات عالية الجودة للاستخدام التجاري والشخصي.\n",
        "   - يمكن تنزيل الفيديوهات مباشرة من الموقع واستخدامها بحرية.\n",
        "\n",
        "### 7. **Unsplash (Videos)** (https://unsplash.com/videos)\n",
        "   - مشابه لمكتبة الصور الشهيرة Unsplash، يقدم الموقع أيضًا فيديوهات مجانية عالية الجودة.\n",
        "   - الفيديوهات مجانية للاستخدام التجاري والشخصي.\n",
        "\n",
        "### 8. **Mixkit** (https://mixkit.co/)\n",
        "   - Mixkit هو موقع آخر يحتوي على مجموعة من الفيديوهات المجانية للمشاريع التجارية والشخصية.\n",
        "   - كل الفيديوهات تأتي مع تراخيص تسمح باستخدامها في مشاريع تجارية.\n",
        "\n",
        "---\n",
        "\n",
        "### ملاحظات:\n",
        "- تأكد دائمًا من قراءة الترخيص الخاص بكل موقع أو فيديو للتأكد من الشروط المتعلقة بالاستخدام التجاري أو غير التجاري.\n",
        "- حتى وإن كانت الفيديوهات مجانية، يمكن أن يكون بعضها تحت قيود معينة مثل ضرورة الإشارة إلى المؤلف أو الموقع.\n",
        "\n",
        "هل ترغب في استكشاف فيديوهات من أي من هذه المواقع؟"
      ],
      "metadata": {
        "id": "kZy6IwiNJJc5"
      }
    },
    {
      "cell_type": "code",
      "source": [
        "!rm -rf /content/sample_data"
      ],
      "metadata": {
        "id": "9K_bGmXCJKSe"
      },
      "execution_count": null,
      "outputs": []
    },
    {
      "cell_type": "code",
      "source": [],
      "metadata": {
        "id": "2n-yTUGkJRR-"
      },
      "execution_count": null,
      "outputs": []
    }
  ]
}